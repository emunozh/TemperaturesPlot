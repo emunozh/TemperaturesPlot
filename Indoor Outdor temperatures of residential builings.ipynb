{
 "metadata": {
  "name": "",
  "signature": "sha256:28d91f017e2eb8749b0e66b7935459227c6c30945f55fb672977678f93d1bc11"
 },
 "nbformat": 3,
 "nbformat_minor": 0,
 "worksheets": [
  {
   "cells": [
    {
     "cell_type": "markdown",
     "metadata": {},
     "source": [
      "# A simple plot of the indoor - outdoor temperature relationship"
     ]
    },
    {
     "cell_type": "markdown",
     "metadata": {},
     "source": [
      "M. Esteban Mu\u00f1oz H. <marcelo.hidalgo@hcu-hamburg.de>\n",
      "\n",
      "HafenCity Universit\u00e4t \u2013 Infrastrukturplanung und Stadttechnik"
     ]
    },
    {
     "cell_type": "markdown",
     "metadata": {
      "slideshow": {
       "slide_type": "slide"
      }
     },
     "source": [
      "#Table of Contents\n",
      "* [1. Import some libraries.](#1.-Import-some-libraries.)\n",
      "* [2. The data](#2.-The-data)\n",
      "\t* [2.1 Read the csv files using pandas](#2.1-Read-the-csv-files-using-pandas)\n",
      "\t* [2.2 Truncate temperatures](#2.2-Truncate-temperatures)\n",
      "* [3. Make a nice plot](#3.-Make-a-nice-plot)\n"
     ]
    },
    {
     "cell_type": "markdown",
     "metadata": {
      "slideshow": {
       "slide_type": "fragment"
      }
     },
     "source": [
      "The following document aims to visualize the relationship between indoor and outdoor temperatures of a residential building. The data used for this porpoise is *simulated data*. For a full description on how this data was generated see <a name=\"ref-1\"/>[(Munoz, 2014)](#cite-munoz.2014)."
     ]
    },
    {
     "cell_type": "heading",
     "level": 1,
     "metadata": {
      "slideshow": {
       "slide_type": "fragment"
      }
     },
     "source": [
      "1. Import some libraries."
     ]
    },
    {
     "cell_type": "code",
     "collapsed": false,
     "input": [
      "import pandas as pd # library for data analysis\n",
      "import seaborn as sns # statistical graphics in Python\n",
      "import datetime as dt # deal with dates\n",
      "from dateutil.relativedelta import relativedelta\n",
      "import os # talk to my system\n",
      "%matplotlib inline"
     ],
     "language": "python",
     "metadata": {
      "slideshow": {
       "slide_type": "fragment"
      }
     },
     "outputs": [],
     "prompt_number": 1
    },
    {
     "cell_type": "heading",
     "level": 1,
     "metadata": {
      "slideshow": {
       "slide_type": "slide"
      }
     },
     "source": [
      "2. The data"
     ]
    },
    {
     "cell_type": "heading",
     "level": 2,
     "metadata": {
      "slideshow": {
       "slide_type": "fragment"
      }
     },
     "source": [
      "2.1 Read the csv files using pandas"
     ]
    },
    {
     "cell_type": "code",
     "collapsed": false,
     "input": [
      "def date_interpreter(x):\n",
      "    # function to interpreta date strings\n",
      "    try:\n",
      "         time = dt.datetime.strptime(x, ' %m/%d  %H:%M:%S')\n",
      "         time += relativedelta(years=110)\n",
      "    except ValueError:\n",
      "         x = x.replace(' 24', ' 23')\n",
      "         time = dt.datetime.strptime(x, ' %m/%d  %H:%M:%S')\n",
      "         time += dt.timedelta(hours=1)\n",
      "         time += relativedelta(years=110)\n",
      "    return(time)"
     ],
     "language": "python",
     "metadata": {
      "slideshow": {
       "slide_type": "fragment"
      }
     },
     "outputs": [],
     "prompt_number": 2
    },
    {
     "cell_type": "code",
     "collapsed": false,
     "input": [
      "def read_data_file(this_file):\n",
      "    # function to load a csv file\n",
      "    Data = pd.read_csv(this_file,\n",
      "                       parse_dates=[0],\n",
      "                       date_parser=date_interpreter,\n",
      "                       index_col=\"Date/Time\")\n",
      "    return(Data)"
     ],
     "language": "python",
     "metadata": {
      "slideshow": {
       "slide_type": "fragment"
      }
     },
     "outputs": [],
     "prompt_number": 3
    },
    {
     "cell_type": "code",
     "collapsed": false,
     "input": [
      "this_file = os.path.join(os.getcwd(), 'Result/family-52cfa942-3130-11e4-9135-2477032ce30c.csv')\n",
      "Data = read_data_file(this_file)\n",
      "Data.head()"
     ],
     "language": "python",
     "metadata": {
      "format": "row",
      "slideshow": {
       "slide_type": "slide"
      }
     },
     "outputs": [
      {
       "html": [
        "<div style=\"max-height:1000px;max-width:1500px;overflow:auto;\">\n",
        "<table border=\"1\" class=\"dataframe\">\n",
        "  <thead>\n",
        "    <tr style=\"text-align: right;\">\n",
        "      <th></th>\n",
        "      <th>Environment:Site Outdoor Air Drybulb Temperature [C](Hourly)</th>\n",
        "      <th>ZONE ONE:Zone Thermostat Air Temperature [C](Hourly)</th>\n",
        "      <th>DistrictHeating:Facility [J](Hourly) </th>\n",
        "    </tr>\n",
        "    <tr>\n",
        "      <th>Date/Time</th>\n",
        "      <th></th>\n",
        "      <th></th>\n",
        "      <th></th>\n",
        "    </tr>\n",
        "  </thead>\n",
        "  <tbody>\n",
        "    <tr>\n",
        "      <th>2010-01-01 01:00:00</th>\n",
        "      <td> 7.8000</td>\n",
        "      <td> 20</td>\n",
        "      <td>  836456.899166</td>\n",
        "    </tr>\n",
        "    <tr>\n",
        "      <th>2010-01-01 02:00:00</th>\n",
        "      <td> 7.6250</td>\n",
        "      <td> 20</td>\n",
        "      <td> 1154651.496767</td>\n",
        "    </tr>\n",
        "    <tr>\n",
        "      <th>2010-01-01 03:00:00</th>\n",
        "      <td> 7.7625</td>\n",
        "      <td> 20</td>\n",
        "      <td> 1162511.093290</td>\n",
        "    </tr>\n",
        "    <tr>\n",
        "      <th>2010-01-01 04:00:00</th>\n",
        "      <td> 7.8625</td>\n",
        "      <td> 20</td>\n",
        "      <td> 1150744.798602</td>\n",
        "    </tr>\n",
        "    <tr>\n",
        "      <th>2010-01-01 05:00:00</th>\n",
        "      <td> 7.9000</td>\n",
        "      <td> 20</td>\n",
        "      <td> 1643894.979520</td>\n",
        "    </tr>\n",
        "  </tbody>\n",
        "</table>\n",
        "</div>"
       ],
       "metadata": {},
       "output_type": "pyout",
       "prompt_number": 4,
       "text": [
        "                     Environment:Site Outdoor Air Drybulb Temperature [C](Hourly)  \\\n",
        "Date/Time                                                                           \n",
        "2010-01-01 01:00:00                                             7.8000              \n",
        "2010-01-01 02:00:00                                             7.6250              \n",
        "2010-01-01 03:00:00                                             7.7625              \n",
        "2010-01-01 04:00:00                                             7.8625              \n",
        "2010-01-01 05:00:00                                             7.9000              \n",
        "\n",
        "                     ZONE ONE:Zone Thermostat Air Temperature [C](Hourly)  \\\n",
        "Date/Time                                                                   \n",
        "2010-01-01 01:00:00                                                 20      \n",
        "2010-01-01 02:00:00                                                 20      \n",
        "2010-01-01 03:00:00                                                 20      \n",
        "2010-01-01 04:00:00                                                 20      \n",
        "2010-01-01 05:00:00                                                 20      \n",
        "\n",
        "                     DistrictHeating:Facility [J](Hourly)   \n",
        "Date/Time                                                   \n",
        "2010-01-01 01:00:00                          836456.899166  \n",
        "2010-01-01 02:00:00                         1154651.496767  \n",
        "2010-01-01 03:00:00                         1162511.093290  \n",
        "2010-01-01 04:00:00                         1150744.798602  \n",
        "2010-01-01 05:00:00                         1643894.979520  "
       ]
      }
     ],
     "prompt_number": 4
    },
    {
     "cell_type": "heading",
     "level": 2,
     "metadata": {
      "slideshow": {
       "slide_type": "slide"
      }
     },
     "source": [
      "2.2 Truncate temperatures"
     ]
    },
    {
     "cell_type": "markdown",
     "metadata": {
      "slideshow": {
       "slide_type": "fragment"
      }
     },
     "source": [
      "Truncate temperatures to 23.9 [C] and 20.1 [C]. These are the defined termostat set points in the simulation"
     ]
    },
    {
     "cell_type": "code",
     "collapsed": false,
     "input": [
      "def truncate_data(data_in):\n",
      "    data_out = data_in[\n",
      "        (data_in[\"ZONE ONE:Zone Thermostat Air Temperature [C](Hourly)\"]<23.9) & \n",
      "        (data_in[\"ZONE ONE:Zone Thermostat Air Temperature [C](Hourly)\"]>20.1)]\n",
      "    return(data_out)"
     ],
     "language": "python",
     "metadata": {
      "slideshow": {
       "slide_type": "fragment"
      }
     },
     "outputs": [],
     "prompt_number": 5
    },
    {
     "cell_type": "code",
     "collapsed": false,
     "input": [
      "Data_truncated = truncate_data(Data)"
     ],
     "language": "python",
     "metadata": {
      "slideshow": {
       "slide_type": "fragment"
      }
     },
     "outputs": [],
     "prompt_number": 6
    },
    {
     "cell_type": "heading",
     "level": 1,
     "metadata": {
      "slideshow": {
       "slide_type": "slide"
      }
     },
     "source": [
      "3. Make a nice plot"
     ]
    },
    {
     "cell_type": "code",
     "collapsed": false,
     "input": [
      "sns.lmplot('Environment:Site Outdoor Air Drybulb Temperature [C](Hourly)',\n",
      "           'ZONE ONE:Zone Thermostat Air Temperature [C](Hourly)',\n",
      "            Data_truncated,\n",
      "            scatter_kws={\"marker\": \".\", \"color\": \"slategray\"},\n",
      "            line_kws={\"linewidth\": 1, \"color\": \"seagreen\"});"
     ],
     "language": "python",
     "metadata": {
      "format": "row",
      "slideshow": {
       "slide_type": "fragment"
      }
     },
     "outputs": [
      {
       "metadata": {},
       "output_type": "display_data",
       "png": "[encoded data removed]",
       "text": [
        "<matplotlib.figure.Figure at 0x7fd4ba5932b0>"
       ]
      }
     ],
     "prompt_number": 7
    },
    {
     "cell_type": "markdown",
     "metadata": {
      "slideshow": {
       "slide_type": "fragment"
      }
     },
     "source": [
      "#References\n",
      "\n",
      "<a name=\"cite-munoz.2014\"/><sup>[^](#ref-1) </sup>M. Esteban Munoz H.. 2014. _Allocating Occupancy Rates to the Micro Census Using Time-Use Data_ in ASim 2014 \u2013 IBPSA Asia Conference. Nayoga, Japan.\n",
      "\n"
     ]
    }
   ],
   "metadata": {}
  }
 ]
}