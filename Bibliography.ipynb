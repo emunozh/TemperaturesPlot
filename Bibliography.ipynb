{
 "metadata": {
  "name": "",
  "signature": "sha256:b2ddea8bd2a105a1c80221cbb7f3aebfa91afc742fd593f7e01a54db9061bd2f"
 },
 "nbformat": 3,
 "nbformat_minor": 0,
 "worksheets": [
  {
   "cells": [
    {
     "cell_type": "raw",
     "metadata": {},
     "source": [
      "<!--bibtex\n",
      "\n",
      "@Inproceedings{munoz.2014,\n",
      "  Title                    = {Allocating Occupancy Rates to the Micro Census Using Time-Use Data},\n",
      "  Author                   = {M. Esteban Munoz H.},\n",
      "  Booktitle                = {ASim 2014 \u2013 IBPSA Asia Conference},\n",
      "  Year                     = {2014}\n",
      "}\n",
      "\n",
      "-->"
     ]
    }
   ],
   "metadata": {}
  }
 ]
}